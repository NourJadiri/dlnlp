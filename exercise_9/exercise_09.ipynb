{
 "cells": [
  {
   "metadata": {},
   "cell_type": "markdown",
   "source": "# Exercise 10: Code Completion",
   "id": "aa516a0992d78628"
  },
  {
   "metadata": {},
   "cell_type": "markdown",
   "source": [
    "## Task 1\n",
    "\n",
    "Review the website: Generating text with transformers: https://huggingface.co/spaces/codeparrot/code-generation-models}. In particular, review:\n",
    "- The different models' architectures  of `CodeParrot`, `InCoder`, `CodeGen`, `PolyCoder`.\n",
    "- How to import the different models with Python.\n",
    "- How to generate code.\n",
    "- How to evaluate the model.\t"
   ],
   "id": "9be39debbadc3e82"
  },
  {
   "metadata": {},
   "cell_type": "markdown",
   "source": "### [`CodeParrot`](https://huggingface.co/codeparrot/codeparrot)",
   "id": "433d18994b654b1d"
  },
  {
   "metadata": {},
   "cell_type": "markdown",
   "source": "### [`InCoder`](https://huggingface.co/facebook/incoder-1B)",
   "id": "2fea6ae3d5c62ce7"
  },
  {
   "metadata": {},
   "cell_type": "markdown",
   "source": "### [`CodeGen`](https://huggingface.co/salesforce/codegen-350M-multi)",
   "id": "db4fb67df026d89b"
  },
  {
   "metadata": {},
   "cell_type": "markdown",
   "source": "### [`PolyCoder`](https://github.com/vhellendoorn/code-lms)",
   "id": "ce65e2f425f1c16b"
  },
  {
   "metadata": {},
   "cell_type": "markdown",
   "source": "## Task 2: PolyCoder",
   "id": "7ccafd3ce0196637"
  },
  {
   "metadata": {},
   "cell_type": "code",
   "source": [
    "model = ...\n",
    "tokenizer = ...\n",
    "\n",
    "def complete_code(code_snippet, max_length=100):\n",
    "    # todo"
   ],
   "id": "177e5b5fac23ed25",
   "outputs": [],
   "execution_count": null
  },
  {
   "metadata": {},
   "cell_type": "code",
   "source": "print(complete_code(\"def fibonacci(n):\\n    if n <= 0:\\n        return 0\\n    elif n == 1:\\n        return 1\\n    else:\", max_length=70))",
   "id": "d9222450f7e5b9b8",
   "outputs": [],
   "execution_count": null
  },
  {
   "metadata": {},
   "cell_type": "code",
   "source": "print(complete_code(\"def sort_array(arr):\\n    n = \", max_length=300))",
   "id": "937093df4a5cd70b",
   "outputs": [],
   "execution_count": null
  },
  {
   "metadata": {},
   "cell_type": "markdown",
   "source": "## Task 3: Metric `code_eval`",
   "id": "937b8945567d93e7"
  },
  {
   "metadata": {},
   "cell_type": "code",
   "source": [
    "from evaluate import load\n",
    "code_eval = load(\"code_eval\")"
   ],
   "id": "9e8a6b149e58f473",
   "outputs": [],
   "execution_count": null
  },
  {
   "metadata": {},
   "cell_type": "code",
   "source": [
    "predictions = [[\n",
    "    # todo\n",
    "]]\n",
    "\n",
    "references = [\n",
    "        \"assert \", # todo complete the asserts\n",
    "]\n",
    "\n",
    "results = code_eval.compute(predictions=predictions, references=references)\n",
    "print(results)"
   ],
   "id": "22b9f317d4dccd8e",
   "outputs": [],
   "execution_count": null
  }
 ],
 "metadata": {
  "kernelspec": {
   "display_name": "Python 3",
   "language": "python",
   "name": "python3"
  },
  "language_info": {
   "codemirror_mode": {
    "name": "ipython",
    "version": 2
   },
   "file_extension": ".py",
   "mimetype": "text/x-python",
   "name": "python",
   "nbconvert_exporter": "python",
   "pygments_lexer": "ipython2",
   "version": "2.7.6"
  }
 },
 "nbformat": 4,
 "nbformat_minor": 5
}
